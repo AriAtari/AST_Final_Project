{
 "cells": [
  {
   "cell_type": "code",
   "execution_count": 113,
   "id": "202b4961",
   "metadata": {},
   "outputs": [],
   "source": [
    "# Packages needed, may not be in git yet\n",
    "%reload_ext autoreload\n",
    "%autoreload 2\n",
    "\n",
    "import matplotlib.pyplot as plt\n",
    "import seaborn as sns\n",
    "import numpy as np\n",
    "import pandas as pd\n",
    "import scipy.constants as sc\n",
    "%matplotlib inline\n",
    "from eos import *\n",
    "from astro_const import *\n",
    "from structure import *\n",
    "from reactions import *\n",
    "from scipy.optimize import bisect\n",
    "from astro_const import *\n",
    "from zams import *\n",
    "sns.set_style(\"whitegrid\")"
   ]
  },
  {
   "cell_type": "code",
   "execution_count": 93,
   "id": "70f5e099",
   "metadata": {},
   "outputs": [
    {
     "name": "stdout",
     "output_type": "stream",
     "text": [
      "1.988335266312407e+29 69568098.12354356 878396.5757287166 1.6955174148164621e+25\n"
     ]
    }
   ],
   "source": [
    "delta_m = 1e-80\n",
    "eta = 1e-11\n",
    "xi = 5e-2\n",
    "\n",
    "Z = [1,2,7]\n",
    "A = [1,4,14]\n",
    "X = [.706,.275,.019]\n",
    "comp = [Z,A,X]\n",
    "mu = mean_molecular_weight(Z,A,X)\n",
    "Pc, rhoc, Tc = central_thermal(0.1,0.1,mu) # Mass and radius are in units of solar\n",
    "m, radius, pressure, Luminosity = integrate(0.1, 0.1, delta_m, eta, xi, comp, max_steps=10000, pp_factor=1.0) # Pc,rhoc,Tc,delta_m,eta,xi,mu,XH\n",
    "\n",
    "print(m[-1],radius[-1],pressure[-1],Luminosity[-1])"
   ]
  },
  {
   "cell_type": "code",
   "execution_count": 91,
   "id": "77f17f29",
   "metadata": {},
   "outputs": [
    {
     "name": "stdout",
     "output_type": "stream",
     "text": [
      "1.988335275005056e+29 69568064.08874863 898523.9292784276 1.6955174230785984e+25\n"
     ]
    }
   ],
   "source": [
    "delta_m = 5e-61\n",
    "eta = 1e-11\n",
    "xi = 5e-2\n",
    "\n",
    "m, radius, pressure, Luminosity = integrate(0.1, 0.1, delta_m, eta, xi, comp, max_steps=10000, pp_factor=1.0) # Pc,rhoc,Tc,delta_m,eta,xi,mu,XH\n",
    "\n",
    "print(m[-1],radius[-1],pressure[-1],Luminosity[-1])"
   ]
  },
  {
   "cell_type": "code",
   "execution_count": 100,
   "id": "96e72716",
   "metadata": {},
   "outputs": [],
   "source": [
    "def g(M,R,comp,delta_m,eta,xi):\n",
    "    m,r,p,l = integrate(M,R,delta_m,eta,xi,comp,max_steps=10000,pp_factor=1.0)\n",
    "    L = l[-1]\n",
    "    R = r[-1]\n",
    "    T_eff = Teff(M)\n",
    "    Lwant = surface_luminosity(T_eff,R)\n",
    "    return(L-Lwant)"
   ]
  },
  {
   "cell_type": "code",
   "execution_count": 109,
   "id": "cbb300db",
   "metadata": {},
   "outputs": [
    {
     "data": {
      "text/plain": [
       "array([0.05771067, 0.1000462 , 0.15799077, 0.28720608])"
      ]
     },
     "execution_count": 109,
     "metadata": {},
     "output_type": "execute_result"
    }
   ],
   "source": [
    "masses = np.array([0.1,0.15,0.2,0.3])\n",
    "Teffs = np.array([2800.0,3150.0,3300.0,3400.0])\n",
    "Radii = np.zeros(len(masses))\n",
    "Z = [1,2,7]\n",
    "A = [1,4,14]\n",
    "X = [.706,.275,.019]\n",
    "comp = [Z,A,X]\n",
    "comp\n",
    "\n",
    "for i in range(len(masses)):\n",
    "    R = bisect(g,0.001,1,args = (masses[i],comp,delta_m,eta,xi))\n",
    "    Radii[i] = R\n",
    "    \n",
    "Radii"
   ]
  },
  {
   "cell_type": "code",
   "execution_count": 122,
   "id": "8cee48b7",
   "metadata": {},
   "outputs": [
    {
     "data": {
      "text/plain": [
       "(8.131530710604252, 7.937374696163295)"
      ]
     },
     "execution_count": 122,
     "metadata": {},
     "output_type": "execute_result"
    },
    {
     "data": {
      "image/png": "[encoded data removed]",
      "text/plain": [
       "<Figure size 432x288 with 1 Axes>"
      ]
     },
     "metadata": {},
     "output_type": "display_data"
    }
   ],
   "source": [
    "Ts = np.log(Teff(masses))\n",
    "Ls = surface_luminosity(Ts,Radii)\n",
    "\n",
    "\n",
    "# fig, ax = plt.subplot()\n",
    "plt.plot(Ts,np.log(Ls/Lsun))\n",
    "plt.xlim(Ts[-1],Ts[0])"
   ]
  },
  {
   "cell_type": "code",
   "execution_count": null,
   "id": "0796f2d5",
   "metadata": {},
   "outputs": [],
   "source": []
  },
  {
   "cell_type": "code",
   "execution_count": null,
   "id": "5b018d81",
   "metadata": {},
   "outputs": [],
   "source": []
  },
  {
   "cell_type": "code",
   "execution_count": null,
   "id": "84be45e5",
   "metadata": {},
   "outputs": [],
   "source": []
  },
  {
   "cell_type": "code",
   "execution_count": null,
   "id": "56f13ebe",
   "metadata": {},
   "outputs": [],
   "source": []
  },
  {
   "cell_type": "code",
   "execution_count": 2,
   "id": "dc0864e4",
   "metadata": {},
   "outputs": [
    {
     "ename": "NameError",
     "evalue": "name 'pressure_guess' is not defined",
     "output_type": "error",
     "traceback": [
      "\u001b[0;31m---------------------------------------------------------------------------\u001b[0m",
      "\u001b[0;31mNameError\u001b[0m                                 Traceback (most recent call last)",
      "\u001b[0;32m/var/folders/9g/6ncjclfj3c3dlfv8gb83cp5r0000gn/T/ipykernel_64837/2371052428.py\u001b[0m in \u001b[0;36m<module>\u001b[0;34m\u001b[0m\n\u001b[1;32m     13\u001b[0m \u001b[0;34m\u001b[0m\u001b[0m\n\u001b[1;32m     14\u001b[0m \u001b[0;32mfor\u001b[0m \u001b[0mi\u001b[0m \u001b[0;32min\u001b[0m \u001b[0mrange\u001b[0m\u001b[0;34m(\u001b[0m\u001b[0mlen\u001b[0m\u001b[0;34m(\u001b[0m\u001b[0mmasses\u001b[0m\u001b[0;34m)\u001b[0m\u001b[0;34m)\u001b[0m\u001b[0;34m:\u001b[0m\u001b[0;34m\u001b[0m\u001b[0;34m\u001b[0m\u001b[0m\n\u001b[0;32m---> 15\u001b[0;31m     \u001b[0mPguess\u001b[0m \u001b[0;34m=\u001b[0m \u001b[0mpressure_guess\u001b[0m\u001b[0;34m(\u001b[0m\u001b[0mmasses\u001b[0m\u001b[0;34m[\u001b[0m\u001b[0mi\u001b[0m\u001b[0;34m]\u001b[0m\u001b[0;34m,\u001b[0m\u001b[0mmue\u001b[0m\u001b[0;34m)\u001b[0m\u001b[0;34m\u001b[0m\u001b[0;34m\u001b[0m\u001b[0m\n\u001b[0m\u001b[1;32m     16\u001b[0m     \u001b[0mPguesses\u001b[0m\u001b[0;34m[\u001b[0m\u001b[0mi\u001b[0m\u001b[0;34m]\u001b[0m \u001b[0;34m=\u001b[0m \u001b[0mPguess\u001b[0m\u001b[0;34m\u001b[0m\u001b[0;34m\u001b[0m\u001b[0m\n\u001b[1;32m     17\u001b[0m     \u001b[0mPc\u001b[0m \u001b[0;34m=\u001b[0m \u001b[0mbisect\u001b[0m\u001b[0;34m(\u001b[0m\u001b[0mf\u001b[0m\u001b[0;34m,\u001b[0m\u001b[0mPguess\u001b[0m\u001b[0;34m/\u001b[0m\u001b[0;36m100\u001b[0m\u001b[0;34m,\u001b[0m\u001b[0;36m100\u001b[0m\u001b[0;34m*\u001b[0m\u001b[0mPguess\u001b[0m\u001b[0;34m,\u001b[0m\u001b[0margs\u001b[0m \u001b[0;34m=\u001b[0m \u001b[0;34m(\u001b[0m\u001b[0mmasses\u001b[0m\u001b[0;34m[\u001b[0m\u001b[0mi\u001b[0m\u001b[0;34m]\u001b[0m\u001b[0;34m,\u001b[0m\u001b[0mdelta_m\u001b[0m\u001b[0;34m,\u001b[0m\u001b[0meta\u001b[0m\u001b[0;34m,\u001b[0m\u001b[0mxi\u001b[0m\u001b[0;34m,\u001b[0m\u001b[0mmue\u001b[0m\u001b[0;34m)\u001b[0m\u001b[0;34m)\u001b[0m\u001b[0;34m\u001b[0m\u001b[0;34m\u001b[0m\u001b[0m\n",
      "\u001b[0;31mNameError\u001b[0m: name 'pressure_guess' is not defined"
     ]
    }
   ],
   "source": [
    "delta_m = 1e-4\n",
    "eta = 1e-11\n",
    "xi = 0.01\n",
    "\n",
    "masses = Msun*np.arange(0.1,1.1,0.1)\n",
    "Pcs = np.zeros(10)\n",
    "\n",
    "def f(Pc,Mwant,delta_m,eta,xi,mue):\n",
    "    m,r,p = integrate(Pc,delta_m,eta,xi,mue)\n",
    "    M = m[-1]\n",
    "    return(M-Mwant)\n",
    "\n",
    "for i in range(len(masses)):\n",
    "    Pguess = pressure_guess(masses[i],mue)\n",
    "    Pguesses[i] = Pguess\n",
    "    Pc = bisect(f,Pguess/100,100*Pguess,args = (masses[i],delta_m,eta,xi,mue))\n",
    "    Pcs[i] = Pc\n",
    "\n",
    "central_dens = density(Pcs,mue)"
   ]
  },
  {
   "cell_type": "code",
   "execution_count": null,
   "id": "cc94e478",
   "metadata": {},
   "outputs": [],
   "source": [
    "Radii = np.zeros(10)\n",
    "\n",
    "for i in range(len(masses)):\n",
    "    m,r,p = integrate(Pcs[i],delta_m,eta,xi,mue)\n",
    "    Radii[i] = r[-1]"
   ]
  },
  {
   "cell_type": "code",
   "execution_count": null,
   "id": "c0a06b2e",
   "metadata": {},
   "outputs": [],
   "source": [
    "R = Radii/Rsun\n",
    "Pcsnorm = Pcs/(G*(masses**2)*Radii**(-4))\n",
    "central_dens_norm = central_dens/((3*masses)/(4*np.pi*Radii**(3)))"
   ]
  },
  {
   "cell_type": "code",
   "execution_count": null,
   "id": "d154e634",
   "metadata": {},
   "outputs": [],
   "source": [
    "for i in range(len(masses)):\n",
    "    Pguess = pressure_guess(masses[i],mue)\n",
    "    Pc = bisect(f,0.9*Pguess,1.1*Pguess,args = (masses[i],delta_m,eta,xi,mue))\n",
    "    Pcs[i] = Pc\n",
    "\n",
    "central_dens = density(Pcs,mue,K = 2)\n",
    "\n",
    "Radii = np.zeros(10)\n",
    "\n",
    "for i in range(len(masses)):\n",
    "    m,r,p = integrate(Pcs[i],delta_m,eta,xi,mue)\n",
    "    Radii[i] = r[-1]"
   ]
  },
  {
   "cell_type": "code",
   "execution_count": null,
   "id": "a4f29809",
   "metadata": {},
   "outputs": [],
   "source": [
    "array = np.array([masses/Msun,R,Pcs,Pcsnorm,central_dens,central_dens_norm])\n",
    "MRdf = pd.DataFrame(array,index = [\"$\\dfrac{M}{M_{\\odot}}$\",\"$\\dfrac{R}{R_\\odot}$\",\n",
    "                                   \"$P_c$\",\"$\\dfrac{P_c}{GM^2R^{-4}}$\",\"$\\rho_c$\",\n",
    "                                   \"$\\dfrac{\\rho_c}{\\dfrac{3M}{4\\pi R^3}}$\"]).transpose()\n",
    "MRdf.columns = [\"$$\\dfrac{M}{M_{\\odot}}$$\",\"$$\\dfrac{R}{R_\\odot}$$\",\n",
    "                                   \"$$P_c$$\",\"$$\\dfrac{P_c}{GM^2R^{-4}}$$\",\"$$\\rho_c$$\",\n",
    "                                   \"$$\\dfrac{\\rho_c}{\\dfrac{3M}{4\\pi R^3}}$$\"]\n",
    "MRdf"
   ]
  },
  {
   "cell_type": "code",
   "execution_count": 5,
   "id": "1c1e7167",
   "metadata": {},
   "outputs": [
    {
     "name": "stdout",
     "output_type": "stream",
     "text": [
      "\u001b[1m============================= test session starts ==============================\u001b[0m\n",
      "platform darwin -- Python 3.8.12, pytest-6.2.5, py-1.10.0, pluggy-1.0.0\n",
      "rootdir: /Users/jkho/Documents/MSU Fall 2022/AST 304/Project 3/AST_Final_Project\n",
      "plugins: anyio-2.2.0\n",
      "collected 7 items                                                              \u001b[0m\u001b[1m\n",
      "\n",
      "test_const.py \u001b[32m.\u001b[0m\u001b[33m                                                          [ 14%]\u001b[0m\n",
      "test_eos.py \u001b[32m.\u001b[0m\u001b[32m.\u001b[0m\u001b[33m                                                           [ 42%]\u001b[0m\n",
      "test_reactions.py \u001b[32m.\u001b[0m\u001b[33m                                                      [ 57%]\u001b[0m\n",
      "test_structure.py \u001b[32m.\u001b[0m\u001b[33m                                                      [ 71%]\u001b[0m\n",
      "test_zams.py \u001b[32m.\u001b[0m\u001b[32m.\u001b[0m\u001b[33m                                                          [100%]\u001b[0m\n",
      "\n",
      "\u001b[33m=============================== warnings summary ===============================\u001b[0m\n",
      "../../../../../opt/anaconda3/lib/python3.8/site-packages/astropy/version.py:26\n",
      "  /Users/jkho/opt/anaconda3/lib/python3.8/site-packages/astropy/version.py:26: DeprecationWarning: distutils Version classes are deprecated. Use packaging.version instead.\n",
      "    for j, piece in enumerate(LooseVersion(version).version[:3]):\n",
      "\n",
      "-- Docs: https://docs.pytest.org/en/stable/warnings.html\n",
      "\u001b[33m========================= \u001b[32m7 passed\u001b[0m, \u001b[33m\u001b[1m1 warning\u001b[0m\u001b[33m in 0.74s\u001b[0m\u001b[33m =========================\u001b[0m\n"
     ]
    }
   ],
   "source": [
    "!python -m pytest"
   ]
  },
  {
   "cell_type": "code",
   "execution_count": 7,
   "id": "7c5902ab",
   "metadata": {},
   "outputs": [
    {
     "name": "stdout",
     "output_type": "stream",
     "text": [
      "chemistry passed testing\r\n",
      "adiabatic EOS passed testing\r\n",
      "reactions passed testing\r\n",
      "central temperature passed testing\r\n",
      "effective temperature passed testing\r\n",
      "surface luminosity passed testing\r\n"
     ]
    }
   ],
   "source": [
    "!python testing.py"
   ]
  },
  {
   "cell_type": "code",
   "execution_count": 94,
   "id": "622b00e6",
   "metadata": {},
   "outputs": [
    {
     "name": "stdout",
     "output_type": "stream",
     "text": [
      "6851356.699730266\n",
      "[0.0005901  0.00059304 0.00059599 ... 0.33299995 0.33299996 0.33299997]\n",
      "0.006078146648539353\n"
     ]
    }
   ],
   "source": [
    "def test_integration(M,r,delta_m,xi,eta):\n",
    "    Rsun = ac.Rsun\n",
    "    Lsun = ac.Lsun\n",
    "    Z = [1,2,7]\n",
    "    A = [1,4,14]\n",
    "    X = [.706,.275,.019]\n",
    "    XH=0.706\n",
    "    mu = mean_molecular_weight(Z,A,X)\n",
    "    Pc, rhoc, Tc = central_thermal(M,r,mu)\n",
    "    comp = [Z,A,X]\n",
    "    m_anything, radius, pressure, Luminosity = integrate(M, r, delta_m, eta, xi, comp, max_steps=10000, pp_factor=1.0) # Pc,rhoc,Tc,delta_m,eta,xi,mu,XH\n",
    "    print(Tc)\n",
    "    #print(m_anything[-1]/Masun, m_anything[0]/Msun)\n",
    "    print(radius/Rsun)\n",
    "    print(Luminosity[-1]/Lsun)\n",
    "    #print(Luminosity[-1]/Lsun,Luminosity[0]/Lsun )\n",
    "\n",
    "test_integration(.3,.333,1.0e-8,.005,10**(-12))"
   ]
  }
 ],
 "metadata": {
  "kernelspec": {
   "display_name": "Python 3 (ipykernel)",
   "language": "python",
   "name": "python3"
  },
  "language_info": {
   "codemirror_mode": {
    "name": "ipython",
    "version": 3
   },
   "file_extension": ".py",
   "mimetype": "text/x-python",
   "name": "python",
   "nbconvert_exporter": "python",
   "pygments_lexer": "ipython3",
   "version": "3.8.12"
  }
 },
 "nbformat": 4,
 "nbformat_minor": 5
}
