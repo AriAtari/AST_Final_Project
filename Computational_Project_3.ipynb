{
 "cells": [
  {
   "cell_type": "code",
   "execution_count": 91,
   "id": "202b4961",
   "metadata": {},
   "outputs": [],
   "source": [
    "# Packages needed, may not be in git yet\n",
    "%reload_ext autoreload\n",
    "%autoreload 2\n",
    "\n",
    "import matplotlib.pyplot as plt\n",
    "import seaborn as sns\n",
    "import numpy as np\n",
    "import pandas as pd\n",
    "import scipy.constants as sc\n",
    "%matplotlib inline\n",
    "from eos import *\n",
    "from astro_const import *\n",
    "from structure import *\n",
    "from reactions import *\n",
    "from scipy.optimize import brentq\n",
    "from astro_const import *\n",
    "from zams import *\n",
    "sns.set_style(\"whitegrid\")"
   ]
  },
  {
   "cell_type": "code",
   "execution_count": 92,
   "id": "70f5e099",
   "metadata": {},
   "outputs": [
    {
     "name": "stdout",
     "output_type": "stream",
     "text": [
      "1.9883352665072425e+29 69571843.14969318 0.00797837769043102 1.6955174148164621e+25\n"
     ]
    }
   ],
   "source": [
    "delta_m = 1e-80\n",
    "eta = 9e-20\n",
    "xi = 5e-2\n",
    "\n",
    "Z = [1,2,7]\n",
    "A = [1,4,14]\n",
    "X = [.706,.275,.019]\n",
    "comp = [Z,A,X]\n",
    "mu = mean_molecular_weight(Z,A,X)\n",
    "Pc, rhoc, Tc = central_thermal(0.1,0.1,mu) # Mass and radius are in units of solar\n",
    "m, radius, pressure, Luminosity = integrate(0.1, 0.1, delta_m, eta, xi, comp, max_steps=10000, pp_factor=1.0) # Pc,rhoc,Tc,delta_m,eta,xi,mu,XH\n",
    "\n",
    "print(m[-1],radius[-1],pressure[-1],Luminosity[-1])"
   ]
  },
  {
   "cell_type": "code",
   "execution_count": 93,
   "id": "77f17f29",
   "metadata": {},
   "outputs": [
    {
     "name": "stdout",
     "output_type": "stream",
     "text": [
      "1.988335275005056e+29 69568064.08874863 898523.9292784276 1.6955174230785984e+25\n",
      "[9.41559408e-22 9.86461995e-22 1.03350597e-21 ... 9.99969897e-02\n",
      " 9.99971047e-02 9.99972173e-02]\n"
     ]
    }
   ],
   "source": [
    "delta_m = 5e-61\n",
    "eta = 1e-11\n",
    "xi = 5e-2\n",
    "\n",
    "m, radius, pressure, Luminosity = integrate(0.1, 0.1, delta_m, eta, xi, comp, max_steps=10000, pp_factor=1.0) # Pc,rhoc,Tc,delta_m,eta,xi,mu,XH\n",
    "\n",
    "print(m[-1],radius[-1],pressure[-1],Luminosity[-1])\n",
    "print(radius/Rsun)"
   ]
  },
  {
   "cell_type": "code",
   "execution_count": 98,
   "id": "96e72716",
   "metadata": {},
   "outputs": [],
   "source": [
    "def g(R,M,comp,delta_m,eta,xi):\n",
    "    m,r,p,l = integrate(M,R,delta_m,eta,xi,comp,max_steps=10000,pp_factor=1.0)\n",
    "    L = l[-1]\n",
    "    R_new = r[-1]\n",
    "    T_eff = Teff(M)\n",
    "    Lwant = surface_luminosity(T_eff,R_new)\n",
    "    return(Lwant-L)"
   ]
  },
  {
   "cell_type": "code",
   "execution_count": 99,
   "id": "cbb300db",
   "metadata": {
    "scrolled": true
   },
   "outputs": [
    {
     "data": {
      "text/plain": [
       "array([0.0615696 , 0.07715441, 0.09173061, 0.1185253 ])"
      ]
     },
     "execution_count": 99,
     "metadata": {},
     "output_type": "execute_result"
    }
   ],
   "source": [
    "masses = np.array([0.1,0.15,0.2,0.3])\n",
    "Teffs = np.array([2800.0,3150.0,3300.0,3400.0])\n",
    "Radii = np.zeros(len(masses))\n",
    "Z = [1,2,7]\n",
    "A = [1,4,14]\n",
    "X = [.706,.275,.019]\n",
    "comp = [Z,A,X]\n",
    "comp\n",
    "\n",
    "for i in range(len(masses)):\n",
    "    R = brentq(g,0.000001,1,args = (masses[i],comp,delta_m,eta,xi))\n",
    "    Radii[i] = R\n",
    "    \n",
    "Radii"
   ]
  },
  {
   "cell_type": "code",
   "execution_count": 109,
   "id": "8cee48b7",
   "metadata": {},
   "outputs": [
    {
     "name": "stdout",
     "output_type": "stream",
     "text": [
      "[2800. 3150. 3300. 3400.]\n"
     ]
    },
    {
     "data": {
      "text/plain": [
       "Text(3.4471580313422194, -2.418600928624722, '0.1')"
      ]
     },
     "execution_count": 109,
     "metadata": {},
     "output_type": "execute_result"
    },
    {
     "data": {
      "image/png": "[encoded data removed]",
      "text/plain": [
       "<Figure size 1080x576 with 1 Axes>"
      ]
     },
     "metadata": {},
     "output_type": "display_data"
    }
   ],
   "source": [
    "Ts = np.log10(Teff(masses))\n",
    "Ls = np.log10(surface_luminosity(Ts,Radii))\n",
    "T_eff = Teff(masses)\n",
    "print(T_eff)\n",
    "\n",
    "# fig, ax = plt.subplot()\n",
    "plt.figure(figsize=(15,8))\n",
    "plt.plot(Ts,Ls)\n",
    "plt.xlim(Ts[-1]+0.005,Ts[0]-0.005)\n",
    "plt.text(Ts[0],Ls[0],'0.1',color='red')"
   ]
  },
  {
   "cell_type": "code",
   "execution_count": null,
   "id": "0796f2d5",
   "metadata": {},
   "outputs": [],
   "source": []
  },
  {
   "cell_type": "code",
   "execution_count": null,
   "id": "5b018d81",
   "metadata": {},
   "outputs": [],
   "source": []
  },
  {
   "cell_type": "code",
   "execution_count": null,
   "id": "84be45e5",
   "metadata": {},
   "outputs": [],
   "source": []
  },
  {
   "cell_type": "code",
   "execution_count": null,
   "id": "56f13ebe",
   "metadata": {},
   "outputs": [],
   "source": []
  },
  {
   "cell_type": "code",
   "execution_count": null,
   "id": "dc0864e4",
   "metadata": {},
   "outputs": [],
   "source": [
    "delta_m = 1e-4\n",
    "eta = 1e-11\n",
    "xi = 0.01\n",
    "\n",
    "masses = Msun*np.arange(0.1,1.1,0.1)\n",
    "Pcs = np.zeros(10)\n",
    "\n",
    "def f(Pc,Mwant,delta_m,eta,xi,mue):\n",
    "    m,r,p = integrate(Pc,delta_m,eta,xi,mue)\n",
    "    M = m[-1]\n",
    "    return(M-Mwant)\n",
    "\n",
    "for i in range(len(masses)):\n",
    "    Pguess = pressure_guess(masses[i],mue)\n",
    "    Pguesses[i] = Pguess\n",
    "    Pc = bisect(f,Pguess/100,100*Pguess,args = (masses[i],delta_m,eta,xi,mue))\n",
    "    Pcs[i] = Pc\n",
    "\n",
    "central_dens = density(Pcs,mue)"
   ]
  },
  {
   "cell_type": "code",
   "execution_count": null,
   "id": "cc94e478",
   "metadata": {},
   "outputs": [],
   "source": [
    "Radii = np.zeros(10)\n",
    "\n",
    "for i in range(len(masses)):\n",
    "    m,r,p = integrate(Pcs[i],delta_m,eta,xi,mue)\n",
    "    Radii[i] = r[-1]"
   ]
  },
  {
   "cell_type": "code",
   "execution_count": null,
   "id": "c0a06b2e",
   "metadata": {},
   "outputs": [],
   "source": [
    "R = Radii/Rsun\n",
    "Pcsnorm = Pcs/(G*(masses**2)*Radii**(-4))\n",
    "central_dens_norm = central_dens/((3*masses)/(4*np.pi*Radii**(3)))"
   ]
  },
  {
   "cell_type": "code",
   "execution_count": null,
   "id": "d154e634",
   "metadata": {},
   "outputs": [],
   "source": [
    "for i in range(len(masses)):\n",
    "    Pguess = pressure_guess(masses[i],mue)\n",
    "    Pc = bisect(f,0.9*Pguess,1.1*Pguess,args = (masses[i],delta_m,eta,xi,mue))\n",
    "    Pcs[i] = Pc\n",
    "\n",
    "central_dens = density(Pcs,mue,K = 2)\n",
    "\n",
    "Radii = np.zeros(10)\n",
    "\n",
    "for i in range(len(masses)):\n",
    "    m,r,p = integrate(Pcs[i],delta_m,eta,xi,mue)\n",
    "    Radii[i] = r[-1]"
   ]
  },
  {
   "cell_type": "code",
   "execution_count": null,
   "id": "a4f29809",
   "metadata": {},
   "outputs": [],
   "source": [
    "array = np.array([masses/Msun,R,Pcs,Pcsnorm,central_dens,central_dens_norm])\n",
    "MRdf = pd.DataFrame(array,index = [\"$\\dfrac{M}{M_{\\odot}}$\",\"$\\dfrac{R}{R_\\odot}$\",\n",
    "                                   \"$P_c$\",\"$\\dfrac{P_c}{GM^2R^{-4}}$\",\"$\\rho_c$\",\n",
    "                                   \"$\\dfrac{\\rho_c}{\\dfrac{3M}{4\\pi R^3}}$\"]).transpose()\n",
    "MRdf.columns = [\"$$\\dfrac{M}{M_{\\odot}}$$\",\"$$\\dfrac{R}{R_\\odot}$$\",\n",
    "                                   \"$$P_c$$\",\"$$\\dfrac{P_c}{GM^2R^{-4}}$$\",\"$$\\rho_c$$\",\n",
    "                                   \"$$\\dfrac{\\rho_c}{\\dfrac{3M}{4\\pi R^3}}$$\"]\n",
    "MRdf"
   ]
  },
  {
   "cell_type": "code",
   "execution_count": null,
   "id": "1c1e7167",
   "metadata": {},
   "outputs": [],
   "source": [
    "!python -m pytest"
   ]
  },
  {
   "cell_type": "code",
   "execution_count": null,
   "id": "7c5902ab",
   "metadata": {},
   "outputs": [],
   "source": [
    "!python testing.py"
   ]
  },
  {
   "cell_type": "code",
   "execution_count": null,
   "id": "622b00e6",
   "metadata": {},
   "outputs": [],
   "source": [
    "def test_integration(M,r,delta_m,xi,eta):\n",
    "    Rsun = ac.Rsun\n",
    "    Lsun = ac.Lsun\n",
    "    Z = [1,2,7]\n",
    "    A = [1,4,14]\n",
    "    X = [.706,.275,.019]\n",
    "    XH=0.706\n",
    "    mu = mean_molecular_weight(Z,A,X)\n",
    "    Pc, rhoc, Tc = central_thermal(M,r,mu)\n",
    "    comp = [Z,A,X]\n",
    "    m_anything, radius, pressure, Luminosity = integrate(M, r, delta_m, eta, xi, comp, max_steps=10000, pp_factor=1.0) # Pc,rhoc,Tc,delta_m,eta,xi,mu,XH\n",
    "    print(Tc)\n",
    "    #print(m_anything[-1]/Masun, m_anything[0]/Msun)\n",
    "    print(radius/Rsun)\n",
    "    print(Luminosity[-1]/Lsun)\n",
    "    #print(Luminosity[-1]/Lsun,Luminosity[0]/Lsun )\n",
    "\n",
    "test_integration(.3,.333,1.0e-8,.005,10**(-12))"
   ]
  }
 ],
 "metadata": {
  "kernelspec": {
   "display_name": "Python 3 (ipykernel)",
   "language": "python",
   "name": "python3"
  },
  "language_info": {
   "codemirror_mode": {
    "name": "ipython",
    "version": 3
   },
   "file_extension": ".py",
   "mimetype": "text/x-python",
   "name": "python",
   "nbconvert_exporter": "python",
   "pygments_lexer": "ipython3",
   "version": "3.9.7"
  }
 },
 "nbformat": 4,
 "nbformat_minor": 5
}
