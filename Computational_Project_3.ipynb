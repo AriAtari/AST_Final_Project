{
 "cells": [
  {
   "cell_type": "code",
   "execution_count": 1,
   "id": "202b4961",
   "metadata": {},
   "outputs": [],
   "source": [
    "# Packages needed, may not be in git yet\n",
    "%reload_ext autoreload\n",
    "%autoreload 2\n",
    "\n",
    "import matplotlib.pyplot as plt\n",
    "import numpy as np\n",
    "import pandas as pd\n",
    "import scipy.constants as sc\n",
    "%matplotlib inline\n",
    "from eos import *\n",
    "#from astro_const import *\n",
    "from structure import *\n",
    "from reactions import *\n",
    "from scipy.optimize import bisect\n",
    "from astro_const import *"
   ]
  },
  {
   "cell_type": "code",
   "execution_count": 2,
   "id": "dc0864e4",
   "metadata": {},
   "outputs": [],
   "source": [
    "delta_m = 1e-4\n",
    "eta = 1e-11\n",
    "xi = 0.01\n",
    "mue = 2\n",
    "masses = Msun*np.arange(0.1,1.1,0.1)\n",
    "Pcs = np.zeros(10)\n",
    "Pguesses = np.zeros(10)\n",
    "\n",
    "def f(Pc,Mwant,delta_m,eta,xi,mue):\n",
    "    m,r,p = integrate(Pc,delta_m,eta,xi,mue)\n",
    "    M = m[-1]\n",
    "    return(M-Mwant)\n",
    "\n",
    "for i in range(len(masses)):\n",
    "    Pguess = pressure_guess(masses[i],mue)\n",
    "    Pguesses[i] = Pguess\n",
    "    Pc = bisect(f,Pguess/100,100*Pguess,args = (masses[i],delta_m,eta,xi,mue))\n",
    "    Pcs[i] = Pc\n",
    "\n",
    "central_dens = density(Pcs,mue)"
   ]
  },
  {
   "cell_type": "code",
   "execution_count": 6,
   "id": "cc94e478",
   "metadata": {},
   "outputs": [
    {
     "ename": "NameError",
     "evalue": "name 'delta_m' is not defined",
     "output_type": "error",
     "traceback": [
      "\u001b[1;31m---------------------------------------------------------------------------\u001b[0m",
      "\u001b[1;31mNameError\u001b[0m                                 Traceback (most recent call last)",
      "\u001b[1;32m~\\AppData\\Local\\Temp/ipykernel_14672/1429624973.py\u001b[0m in \u001b[0;36m<module>\u001b[1;34m\u001b[0m\n\u001b[0;32m      2\u001b[0m \u001b[1;33m\u001b[0m\u001b[0m\n\u001b[0;32m      3\u001b[0m \u001b[1;32mfor\u001b[0m \u001b[0mi\u001b[0m \u001b[1;32min\u001b[0m \u001b[0mrange\u001b[0m\u001b[1;33m(\u001b[0m\u001b[0mlen\u001b[0m\u001b[1;33m(\u001b[0m\u001b[0mmasses\u001b[0m\u001b[1;33m)\u001b[0m\u001b[1;33m)\u001b[0m\u001b[1;33m:\u001b[0m\u001b[1;33m\u001b[0m\u001b[1;33m\u001b[0m\u001b[0m\n\u001b[1;32m----> 4\u001b[1;33m     \u001b[0mm\u001b[0m\u001b[1;33m,\u001b[0m\u001b[0mr\u001b[0m\u001b[1;33m,\u001b[0m\u001b[0mp\u001b[0m \u001b[1;33m=\u001b[0m \u001b[0mintegrate\u001b[0m\u001b[1;33m(\u001b[0m\u001b[0mPcs\u001b[0m\u001b[1;33m[\u001b[0m\u001b[0mi\u001b[0m\u001b[1;33m]\u001b[0m\u001b[1;33m,\u001b[0m\u001b[0mdelta_m\u001b[0m\u001b[1;33m,\u001b[0m\u001b[0meta\u001b[0m\u001b[1;33m,\u001b[0m\u001b[0mxi\u001b[0m\u001b[1;33m,\u001b[0m\u001b[0mmue\u001b[0m\u001b[1;33m)\u001b[0m\u001b[1;33m\u001b[0m\u001b[1;33m\u001b[0m\u001b[0m\n\u001b[0m\u001b[0;32m      5\u001b[0m     \u001b[0mRadii\u001b[0m\u001b[1;33m[\u001b[0m\u001b[0mi\u001b[0m\u001b[1;33m]\u001b[0m \u001b[1;33m=\u001b[0m \u001b[0mr\u001b[0m\u001b[1;33m[\u001b[0m\u001b[1;33m-\u001b[0m\u001b[1;36m1\u001b[0m\u001b[1;33m]\u001b[0m\u001b[1;33m\u001b[0m\u001b[1;33m\u001b[0m\u001b[0m\n",
      "\u001b[1;31mNameError\u001b[0m: name 'delta_m' is not defined"
     ]
    }
   ],
   "source": [
    "Radii = np.zeros(10)\n",
    "\n",
    "for i in range(len(masses)):\n",
    "    m,r,p = integrate(Pcs[i],delta_m,eta,xi,mue)\n",
    "    Radii[i] = r[-1]"
   ]
  },
  {
   "cell_type": "code",
   "execution_count": 7,
   "id": "c0a06b2e",
   "metadata": {},
   "outputs": [
    {
     "name": "stderr",
     "output_type": "stream",
     "text": [
      "C:\\Users\\eoswa\\AppData\\Local\\Temp/ipykernel_14672/1181368194.py:2: RuntimeWarning: divide by zero encountered in power\n",
      "  Pcsnorm = Pcs/(G*(masses**2)*Radii**(-4))\n"
     ]
    },
    {
     "ename": "NameError",
     "evalue": "name 'central_dens' is not defined",
     "output_type": "error",
     "traceback": [
      "\u001b[1;31m---------------------------------------------------------------------------\u001b[0m",
      "\u001b[1;31mNameError\u001b[0m                                 Traceback (most recent call last)",
      "\u001b[1;32m~\\AppData\\Local\\Temp/ipykernel_14672/1181368194.py\u001b[0m in \u001b[0;36m<module>\u001b[1;34m\u001b[0m\n\u001b[0;32m      1\u001b[0m \u001b[0mR\u001b[0m \u001b[1;33m=\u001b[0m \u001b[0mRadii\u001b[0m\u001b[1;33m/\u001b[0m\u001b[0mRsun\u001b[0m\u001b[1;33m\u001b[0m\u001b[1;33m\u001b[0m\u001b[0m\n\u001b[0;32m      2\u001b[0m \u001b[0mPcsnorm\u001b[0m \u001b[1;33m=\u001b[0m \u001b[0mPcs\u001b[0m\u001b[1;33m/\u001b[0m\u001b[1;33m(\u001b[0m\u001b[0mG\u001b[0m\u001b[1;33m*\u001b[0m\u001b[1;33m(\u001b[0m\u001b[0mmasses\u001b[0m\u001b[1;33m**\u001b[0m\u001b[1;36m2\u001b[0m\u001b[1;33m)\u001b[0m\u001b[1;33m*\u001b[0m\u001b[0mRadii\u001b[0m\u001b[1;33m**\u001b[0m\u001b[1;33m(\u001b[0m\u001b[1;33m-\u001b[0m\u001b[1;36m4\u001b[0m\u001b[1;33m)\u001b[0m\u001b[1;33m)\u001b[0m\u001b[1;33m\u001b[0m\u001b[1;33m\u001b[0m\u001b[0m\n\u001b[1;32m----> 3\u001b[1;33m \u001b[0mcentral_dens_norm\u001b[0m \u001b[1;33m=\u001b[0m \u001b[0mcentral_dens\u001b[0m\u001b[1;33m/\u001b[0m\u001b[1;33m(\u001b[0m\u001b[1;33m(\u001b[0m\u001b[1;36m3\u001b[0m\u001b[1;33m*\u001b[0m\u001b[0mmasses\u001b[0m\u001b[1;33m)\u001b[0m\u001b[1;33m/\u001b[0m\u001b[1;33m(\u001b[0m\u001b[1;36m4\u001b[0m\u001b[1;33m*\u001b[0m\u001b[0mnp\u001b[0m\u001b[1;33m.\u001b[0m\u001b[0mpi\u001b[0m\u001b[1;33m*\u001b[0m\u001b[0mRadii\u001b[0m\u001b[1;33m**\u001b[0m\u001b[1;33m(\u001b[0m\u001b[1;36m3\u001b[0m\u001b[1;33m)\u001b[0m\u001b[1;33m)\u001b[0m\u001b[1;33m)\u001b[0m\u001b[1;33m\u001b[0m\u001b[1;33m\u001b[0m\u001b[0m\n\u001b[0m",
      "\u001b[1;31mNameError\u001b[0m: name 'central_dens' is not defined"
     ]
    }
   ],
   "source": [
    "R = Radii/Rsun\n",
    "Pcsnorm = Pcs/(G*(masses**2)*Radii**(-4))\n",
    "central_dens_norm = central_dens/((3*masses)/(4*np.pi*Radii**(3)))"
   ]
  },
  {
   "cell_type": "code",
   "execution_count": 5,
   "id": "d154e634",
   "metadata": {},
   "outputs": [
    {
     "ename": "NameError",
     "evalue": "name 'central_dens' is not defined",
     "output_type": "error",
     "traceback": [
      "\u001b[1;31m---------------------------------------------------------------------------\u001b[0m",
      "\u001b[1;31mNameError\u001b[0m                                 Traceback (most recent call last)",
      "\u001b[1;32m~\\AppData\\Local\\Temp/ipykernel_14672/3869401265.py\u001b[0m in \u001b[0;36m<module>\u001b[1;34m\u001b[0m\n\u001b[1;32m----> 1\u001b[1;33m \u001b[0marray\u001b[0m \u001b[1;33m=\u001b[0m \u001b[0mnp\u001b[0m\u001b[1;33m.\u001b[0m\u001b[0marray\u001b[0m\u001b[1;33m(\u001b[0m\u001b[1;33m[\u001b[0m\u001b[0mmasses\u001b[0m\u001b[1;33m/\u001b[0m\u001b[0mMsun\u001b[0m\u001b[1;33m,\u001b[0m\u001b[0mR\u001b[0m\u001b[1;33m,\u001b[0m\u001b[0mPcs\u001b[0m\u001b[1;33m,\u001b[0m\u001b[0mPcsnorm\u001b[0m\u001b[1;33m,\u001b[0m\u001b[0mcentral_dens\u001b[0m\u001b[1;33m,\u001b[0m\u001b[0mcentral_dens_norm\u001b[0m\u001b[1;33m]\u001b[0m\u001b[1;33m)\u001b[0m\u001b[1;33m\u001b[0m\u001b[1;33m\u001b[0m\u001b[0m\n\u001b[0m\u001b[0;32m      2\u001b[0m MRdf = pd.DataFrame(array,index = [\"$\\dfrac{M}{M_{\\odot}}$\",\"$\\dfrac{R}{R_\\odot}$\",\n\u001b[0;32m      3\u001b[0m                                    \u001b[1;34m\"$P_c$\"\u001b[0m\u001b[1;33m,\u001b[0m\u001b[1;34m\"$\\dfrac{P_c}{GM^2R^{-4}}$\"\u001b[0m\u001b[1;33m,\u001b[0m\u001b[1;34m\"$\\rho_c$\"\u001b[0m\u001b[1;33m,\u001b[0m\u001b[1;33m\u001b[0m\u001b[1;33m\u001b[0m\u001b[0m\n\u001b[0;32m      4\u001b[0m                                    \"$\\dfrac{\\rho_c}{\\dfrac{3M}{4\\pi R^3}}$\"]).transpose()\n\u001b[0;32m      5\u001b[0m MRdf.columns = [\"$$\\dfrac{M}{M_{\\odot}}$$\",\"$$\\dfrac{R}{R_\\odot}$$\",\n",
      "\u001b[1;31mNameError\u001b[0m: name 'central_dens' is not defined"
     ]
    }
   ],
   "source": [
    "for i in range(len(masses)):\n",
    "    Pguess = pressure_guess(masses[i],mue)\n",
    "    Pc = bisect(f,0.9*Pguess,1.1*Pguess,args = (masses[i],delta_m,eta,xi,mue))\n",
    "    Pcs[i] = Pc\n",
    "\n",
    "central_dens = density(Pcs,mue,K = 2)\n",
    "\n",
    "Radii = np.zeros(10)\n",
    "\n",
    "for i in range(len(masses)):\n",
    "    m,r,p = integrate(Pcs[i],delta_m,eta,xi,mue)\n",
    "    Radii[i] = r[-1]"
   ]
  },
  {
   "cell_type": "code",
   "execution_count": 13,
   "id": "a4f29809",
   "metadata": {},
   "outputs": [
    {
     "data": {
      "text/html": [
       "<div>\n",
       "<style scoped>\n",
       "    .dataframe tbody tr th:only-of-type {\n",
       "        vertical-align: middle;\n",
       "    }\n",
       "\n",
       "    .dataframe tbody tr th {\n",
       "        vertical-align: top;\n",
       "    }\n",
       "\n",
       "    .dataframe thead th {\n",
       "        text-align: right;\n",
       "    }\n",
       "</style>\n",
       "<table border=\"1\" class=\"dataframe\">\n",
       "  <thead>\n",
       "    <tr style=\"text-align: right;\">\n",
       "      <th></th>\n",
       "      <th>$$\\dfrac{M}{M_{\\odot}}$$</th>\n",
       "      <th>$$\\dfrac{R}{R_\\odot}$$</th>\n",
       "      <th>$$P_c$$</th>\n",
       "      <th>$$\\dfrac{P_c}{GM^2R^{-4}}$$</th>\n",
       "      <th>$$\\rho_c$$</th>\n",
       "      <th>$$\\dfrac{\\rho_c}{\\dfrac{3M}{4\\pi R^3}}$$</th>\n",
       "    </tr>\n",
       "  </thead>\n",
       "  <tbody>\n",
       "    <tr>\n",
       "      <th>0</th>\n",
       "      <td>0.1</td>\n",
       "      <td>0.027494</td>\n",
       "      <td>1.517984e+19</td>\n",
       "      <td>0.769975</td>\n",
       "      <td>2.680631e+07</td>\n",
       "      <td>5.989740</td>\n",
       "    </tr>\n",
       "    <tr>\n",
       "      <th>1</th>\n",
       "      <td>0.2</td>\n",
       "      <td>0.021822</td>\n",
       "      <td>1.530032e+20</td>\n",
       "      <td>0.769975</td>\n",
       "      <td>1.072252e+08</td>\n",
       "      <td>5.989738</td>\n",
       "    </tr>\n",
       "    <tr>\n",
       "      <th>2</th>\n",
       "      <td>0.3</td>\n",
       "      <td>0.019063</td>\n",
       "      <td>5.911141e+20</td>\n",
       "      <td>0.769975</td>\n",
       "      <td>2.412568e+08</td>\n",
       "      <td>5.989740</td>\n",
       "    </tr>\n",
       "    <tr>\n",
       "      <th>3</th>\n",
       "      <td>0.4</td>\n",
       "      <td>0.017320</td>\n",
       "      <td>1.542176e+21</td>\n",
       "      <td>0.769975</td>\n",
       "      <td>4.289009e+08</td>\n",
       "      <td>5.989741</td>\n",
       "    </tr>\n",
       "    <tr>\n",
       "      <th>4</th>\n",
       "      <td>0.5</td>\n",
       "      <td>0.016078</td>\n",
       "      <td>3.244645e+21</td>\n",
       "      <td>0.769975</td>\n",
       "      <td>6.701577e+08</td>\n",
       "      <td>5.989738</td>\n",
       "    </tr>\n",
       "    <tr>\n",
       "      <th>5</th>\n",
       "      <td>0.6</td>\n",
       "      <td>0.015130</td>\n",
       "      <td>5.958057e+21</td>\n",
       "      <td>0.769975</td>\n",
       "      <td>9.650271e+08</td>\n",
       "      <td>5.989738</td>\n",
       "    </tr>\n",
       "    <tr>\n",
       "      <th>6</th>\n",
       "      <td>0.7</td>\n",
       "      <td>0.014373</td>\n",
       "      <td>9.960030e+21</td>\n",
       "      <td>0.769975</td>\n",
       "      <td>1.313509e+09</td>\n",
       "      <td>5.989741</td>\n",
       "    </tr>\n",
       "    <tr>\n",
       "      <th>7</th>\n",
       "      <td>0.8</td>\n",
       "      <td>0.013747</td>\n",
       "      <td>1.554416e+22</td>\n",
       "      <td>0.769975</td>\n",
       "      <td>1.715604e+09</td>\n",
       "      <td>5.989739</td>\n",
       "    </tr>\n",
       "    <tr>\n",
       "      <th>8</th>\n",
       "      <td>0.9</td>\n",
       "      <td>0.013218</td>\n",
       "      <td>2.301842e+22</td>\n",
       "      <td>0.769975</td>\n",
       "      <td>2.171311e+09</td>\n",
       "      <td>5.989739</td>\n",
       "    </tr>\n",
       "    <tr>\n",
       "      <th>9</th>\n",
       "      <td>1.0</td>\n",
       "      <td>0.012761</td>\n",
       "      <td>3.270397e+22</td>\n",
       "      <td>0.769975</td>\n",
       "      <td>2.680631e+09</td>\n",
       "      <td>5.989741</td>\n",
       "    </tr>\n",
       "  </tbody>\n",
       "</table>\n",
       "</div>"
      ],
      "text/plain": [
       "   $$\\dfrac{M}{M_{\\odot}}$$  $$\\dfrac{R}{R_\\odot}$$       $$P_c$$  \\\n",
       "0                       0.1                0.027494  1.517984e+19   \n",
       "1                       0.2                0.021822  1.530032e+20   \n",
       "2                       0.3                0.019063  5.911141e+20   \n",
       "3                       0.4                0.017320  1.542176e+21   \n",
       "4                       0.5                0.016078  3.244645e+21   \n",
       "5                       0.6                0.015130  5.958057e+21   \n",
       "6                       0.7                0.014373  9.960030e+21   \n",
       "7                       0.8                0.013747  1.554416e+22   \n",
       "8                       0.9                0.013218  2.301842e+22   \n",
       "9                       1.0                0.012761  3.270397e+22   \n",
       "\n",
       "   $$\\dfrac{P_c}{GM^2R^{-4}}$$    $$\\rho_c$$  \\\n",
       "0                     0.769975  2.680631e+07   \n",
       "1                     0.769975  1.072252e+08   \n",
       "2                     0.769975  2.412568e+08   \n",
       "3                     0.769975  4.289009e+08   \n",
       "4                     0.769975  6.701577e+08   \n",
       "5                     0.769975  9.650271e+08   \n",
       "6                     0.769975  1.313509e+09   \n",
       "7                     0.769975  1.715604e+09   \n",
       "8                     0.769975  2.171311e+09   \n",
       "9                     0.769975  2.680631e+09   \n",
       "\n",
       "   $$\\dfrac{\\rho_c}{\\dfrac{3M}{4\\pi R^3}}$$  \n",
       "0                                  5.989740  \n",
       "1                                  5.989738  \n",
       "2                                  5.989740  \n",
       "3                                  5.989741  \n",
       "4                                  5.989738  \n",
       "5                                  5.989738  \n",
       "6                                  5.989741  \n",
       "7                                  5.989739  \n",
       "8                                  5.989739  \n",
       "9                                  5.989741  "
      ]
     },
     "execution_count": 13,
     "metadata": {},
     "output_type": "execute_result"
    }
   ],
   "source": [
    "array = np.array([masses/Msun,R,Pcs,Pcsnorm,central_dens,central_dens_norm])\n",
    "MRdf = pd.DataFrame(array,index = [\"$\\dfrac{M}{M_{\\odot}}$\",\"$\\dfrac{R}{R_\\odot}$\",\n",
    "                                   \"$P_c$\",\"$\\dfrac{P_c}{GM^2R^{-4}}$\",\"$\\rho_c$\",\n",
    "                                   \"$\\dfrac{\\rho_c}{\\dfrac{3M}{4\\pi R^3}}$\"]).transpose()\n",
    "MRdf.columns = [\"$$\\dfrac{M}{M_{\\odot}}$$\",\"$$\\dfrac{R}{R_\\odot}$$\",\n",
    "                                   \"$$P_c$$\",\"$$\\dfrac{P_c}{GM^2R^{-4}}$$\",\"$$\\rho_c$$\",\n",
    "                                   \"$$\\dfrac{\\rho_c}{\\dfrac{3M}{4\\pi R^3}}$$\"]\n",
    "MRdf"
   ]
  },
  {
   "cell_type": "code",
   "execution_count": 16,
   "id": "1c1e7167",
   "metadata": {},
   "outputs": [
    {
     "name": "stdout",
     "output_type": "stream",
     "text": [
      "============================= test session starts =============================\n",
      "platform win32 -- Python 3.9.7, pytest-6.2.4, py-1.10.0, pluggy-0.13.1\n",
      "rootdir: C:\\Users\\eoswa\\OneDrive\\Documents\\Fall 2022\\AST 304\\AST_Final_Project\n",
      "plugins: anyio-2.2.0\n",
      "collected 7 items\n",
      "\n",
      "test_const.py .                                                          [ 14%]\n",
      "test_eos.py ..                                                           [ 42%]\n",
      "test_reactions.py .                                                      [ 57%]\n",
      "test_structure.py .                                                      [ 71%]\n",
      "test_zams.py ..                                                          [100%]\n",
      "\n",
      "============================== warnings summary ===============================\n",
      "..\\..\\..\\..\\..\\..\\..\\ProgramData\\Anaconda3\\lib\\site-packages\\pyreadline\\py3k_compat.py:8\n",
      "  C:\\ProgramData\\Anaconda3\\lib\\site-packages\\pyreadline\\py3k_compat.py:8: DeprecationWarning: Using or importing the ABCs from 'collections' instead of from 'collections.abc' is deprecated since Python 3.3, and in 3.10 it will stop working\n",
      "    return isinstance(x, collections.Callable)\n",
      "\n",
      "-- Docs: https://docs.pytest.org/en/stable/warnings.html\n",
      "======================== 7 passed, 1 warning in 0.63s =========================\n"
     ]
    }
   ],
   "source": [
    "!python -m pytest"
   ]
  },
  {
   "cell_type": "code",
   "execution_count": 15,
   "id": "7c5902ab",
   "metadata": {},
   "outputs": [
    {
     "name": "stdout",
     "output_type": "stream",
     "text": [
      "surface luminosity passed testing\n"
     ]
    }
   ],
   "source": [
    "!python testing.py"
   ]
  },
  {
   "cell_type": "code",
   "execution_count": 26,
   "id": "6af063e2",
   "metadata": {},
   "outputs": [
    {
     "ename": "ValueError",
     "evalue": "too many values to unpack (expected 4)",
     "output_type": "error",
     "traceback": [
      "\u001b[1;31m---------------------------------------------------------------------------\u001b[0m",
      "\u001b[1;31mValueError\u001b[0m                                Traceback (most recent call last)",
      "\u001b[1;32m~\\AppData\\Local\\Temp/ipykernel_14672/181492703.py\u001b[0m in \u001b[0;36m<module>\u001b[1;34m\u001b[0m\n\u001b[0;32m     12\u001b[0m \u001b[0mxi\u001b[0m \u001b[1;33m=\u001b[0m \u001b[1;36m0.01\u001b[0m\u001b[1;33m\u001b[0m\u001b[1;33m\u001b[0m\u001b[0m\n\u001b[0;32m     13\u001b[0m \u001b[1;33m\u001b[0m\u001b[0m\n\u001b[1;32m---> 14\u001b[1;33m \u001b[0mm\u001b[0m\u001b[1;33m,\u001b[0m\u001b[0mr\u001b[0m\u001b[1;33m,\u001b[0m\u001b[0mp\u001b[0m\u001b[1;33m,\u001b[0m\u001b[0mL\u001b[0m \u001b[1;33m=\u001b[0m \u001b[0mintegrate\u001b[0m\u001b[1;33m(\u001b[0m\u001b[1;36m1\u001b[0m\u001b[1;33m,\u001b[0m \u001b[1;36m1\u001b[0m\u001b[1;33m,\u001b[0m\u001b[0mdelta_m\u001b[0m\u001b[1;33m,\u001b[0m\u001b[0meta\u001b[0m\u001b[1;33m,\u001b[0m\u001b[0mxi\u001b[0m\u001b[1;33m,\u001b[0m\u001b[0mcomp\u001b[0m\u001b[1;33m)\u001b[0m\u001b[1;33m\u001b[0m\u001b[1;33m\u001b[0m\u001b[0m\n\u001b[0m\u001b[0;32m     15\u001b[0m \u001b[1;33m\u001b[0m\u001b[0m\n\u001b[0;32m     16\u001b[0m \u001b[0mprint\u001b[0m\u001b[1;33m(\u001b[0m\u001b[0mm\u001b[0m\u001b[1;33m[\u001b[0m\u001b[1;33m-\u001b[0m\u001b[1;36m1\u001b[0m\u001b[1;33m]\u001b[0m\u001b[1;33m,\u001b[0m\u001b[0mr\u001b[0m\u001b[1;33m[\u001b[0m\u001b[1;33m-\u001b[0m\u001b[1;36m1\u001b[0m\u001b[1;33m]\u001b[0m\u001b[1;33m,\u001b[0m\u001b[0mp\u001b[0m\u001b[1;33m[\u001b[0m\u001b[1;33m-\u001b[0m\u001b[1;36m1\u001b[0m\u001b[1;33m]\u001b[0m\u001b[1;33m,\u001b[0m\u001b[0mL\u001b[0m\u001b[1;33m[\u001b[0m\u001b[1;33m-\u001b[0m\u001b[1;36m1\u001b[0m\u001b[1;33m]\u001b[0m\u001b[1;33m)\u001b[0m\u001b[1;33m\u001b[0m\u001b[1;33m\u001b[0m\u001b[0m\n",
      "\u001b[1;32m~\\OneDrive\\Documents\\Fall 2022\\AST 304\\AST_Final_Project\\structure.py\u001b[0m in \u001b[0;36mintegrate\u001b[1;34m(M, r, delta_m, eta, xi, comp, max_steps, pp_factor)\u001b[0m\n\u001b[0;32m    177\u001b[0m     \u001b[0mmu\u001b[0m \u001b[1;33m=\u001b[0m \u001b[0mmean_molecular_weight\u001b[0m\u001b[1;33m(\u001b[0m\u001b[0mz_atom\u001b[0m\u001b[1;33m,\u001b[0m\u001b[0ma\u001b[0m\u001b[1;33m,\u001b[0m\u001b[0mx\u001b[0m\u001b[1;33m)\u001b[0m \u001b[1;31m##### calc once\u001b[0m\u001b[1;33m\u001b[0m\u001b[1;33m\u001b[0m\u001b[0m\n\u001b[0;32m    178\u001b[0m \u001b[1;33m\u001b[0m\u001b[0m\n\u001b[1;32m--> 179\u001b[1;33m     \u001b[0mM\u001b[0m\u001b[1;33m,\u001b[0m \u001b[0mz\u001b[0m\u001b[1;33m,\u001b[0m \u001b[0mrhoc\u001b[0m\u001b[1;33m,\u001b[0m \u001b[0mTc\u001b[0m \u001b[1;33m=\u001b[0m \u001b[0mcentral_values\u001b[0m\u001b[1;33m(\u001b[0m\u001b[0mM\u001b[0m\u001b[1;33m,\u001b[0m\u001b[0mr\u001b[0m\u001b[1;33m,\u001b[0m\u001b[0mdelta_m\u001b[0m\u001b[1;33m,\u001b[0m \u001b[0mmu\u001b[0m\u001b[1;33m,\u001b[0m \u001b[0mpp_factor\u001b[0m\u001b[1;33m=\u001b[0m\u001b[1;36m1.0\u001b[0m\u001b[1;33m)\u001b[0m\u001b[1;33m\u001b[0m\u001b[1;33m\u001b[0m\u001b[0m\n\u001b[0m\u001b[0;32m    180\u001b[0m \u001b[1;33m\u001b[0m\u001b[0m\n\u001b[0;32m    181\u001b[0m     \u001b[0mT_eff\u001b[0m \u001b[1;33m=\u001b[0m \u001b[0mTeff\u001b[0m\u001b[1;33m(\u001b[0m\u001b[0mM\u001b[0m\u001b[1;33m)\u001b[0m\u001b[1;33m\u001b[0m\u001b[1;33m\u001b[0m\u001b[0m\n",
      "\u001b[1;31mValueError\u001b[0m: too many values to unpack (expected 4)"
     ]
    }
   ],
   "source": [
    "M = Msun\n",
    "mue = 2\n",
    "Pguess = pressure_guess(M,mue)\n",
    "X = np.array([0.706, 0.275, 0.019])\n",
    "Z = np.array([1,2,7])\n",
    "A = np.array([1,4,14])\n",
    "comp = np.array([Z,A,X])\n",
    "\n",
    "\n",
    "delta_m = 1e-4\n",
    "eta = 1e-11\n",
    "xi = 0.01\n",
    "\n",
    "m,r,p,L = integrate(1, 1,delta_m,eta,xi,list(comp[:,0]))\n",
    "\n",
    "print(m[-1],r[-1],p[-1],L[-1])\n",
    "\n",
    "delta_m = 5e-4\n",
    "eta = 5e-11\n",
    "xi = 0.015\n",
    "\n",
    "m,r,p,L = integrate(1,1,delta_m,eta,xi,mue,comp)\n",
    "\n",
    "print(m[-1],r[-1],p[-1],L[-1])"
   ]
  },
  {
   "cell_type": "code",
   "execution_count": null,
   "id": "2754afbd",
   "metadata": {},
   "outputs": [],
   "source": []
  }
 ],
 "metadata": {
  "kernelspec": {
   "display_name": "Python 3 (ipykernel)",
   "language": "python",
   "name": "python3"
  },
  "language_info": {
   "codemirror_mode": {
    "name": "ipython",
    "version": 3
   },
   "file_extension": ".py",
   "mimetype": "text/x-python",
   "name": "python",
   "nbconvert_exporter": "python",
   "pygments_lexer": "ipython3",
   "version": "3.8.12"
  }
 },
 "nbformat": 4,
 "nbformat_minor": 5
}
