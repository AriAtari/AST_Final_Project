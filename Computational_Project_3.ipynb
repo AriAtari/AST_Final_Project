{
 "cells": [
  {
   "cell_type": "code",
   "execution_count": 4,
   "id": "202b4961",
   "metadata": {},
   "outputs": [],
   "source": [
    "# Packages needed, may not be in git yet\n",
    "\n",
    "import matplotlib.pyplot as plt\n",
    "import numpy as np\n",
    "import pandas as pd\n",
    "import scipy.constants as sc\n",
    "%matplotlib inline\n",
    "from eos import *\n",
    "#from astro_const import *\n",
    "from structure import *\n",
    "from reactions import *\n",
    "from scipy.optimize import bisect"
   ]
  },
  {
   "cell_type": "code",
   "execution_count": null,
   "id": "43562712",
   "metadata": {},
   "outputs": [],
   "source": [
    "masses = Msun*np.arange(0.1,1.1,0.1)\n",
    "Pcs = np.zeros(10)\n",
    "Pguesses = np.zeros(10)\n",
    "\n",
    "for i in range(len(masses)):\n",
    "    Pguess = pressure_guess(masses[i],mue)\n",
    "    Pguesses[i] = Pguess\n",
    "    Pc = bisect(f,Pguess/2,Pguess*2,args = (masses[i],delta_m,eta,xi,mue)) # Changed width from 100 to 4\n",
    "    Pcs[i] = Pc\n",
    "\n",
    "central_dens = density(Pcs,2)"
   ]
  },
  {
   "cell_type": "code",
   "execution_count": null,
   "id": "d36e11b1",
   "metadata": {},
   "outputs": [],
   "source": [
    "Radii = np.zeros(10)\n",
    "\n",
    "for i in range(len(masses)):\n",
    "    m,r,p = integrate(Pcs[i],delta_m,eta,xi,mue)\n",
    "    Radii[i] = r[-1]"
   ]
  },
  {
   "cell_type": "code",
   "execution_count": null,
   "id": "fb6a1150",
   "metadata": {},
   "outputs": [],
   "source": [
    "R = Radii/Rsun\n",
    "Pcsnorm = Pcs/(G*(masses**2)*Radii**(-4))\n",
    "central_dens_norm = central_dens/((3*masses)/(4*np.pi*Radii**(3)))"
   ]
  },
  {
   "cell_type": "code",
   "execution_count": null,
   "id": "d154e634",
   "metadata": {},
   "outputs": [],
   "source": [
    "array = np.array([masses/Msun,R,Pcs,Pcsnorm,central_dens,central_dens_norm])\n",
    "MRdf = pd.DataFrame(array,index = [\"$\\dfrac{M}{M_{\\odot}}$\",\"$\\dfrac{R}{R_\\odot}$\",\n",
    "                                   \"$P_c$\",\"$\\dfrac{P_c}{GM^2R^{-4}}$\",\"$\\rho_c$\",\n",
    "                                   \"$\\dfrac{\\rho_c}{\\dfrac{3M}{4\\pi R^3}}$\"]).transpose()\n",
    "MRdf.columns = [\"$$\\dfrac{M}{M_{\\odot}}$$\",\"$$\\dfrac{R}{R_\\odot}$$\",\n",
    "                                   \"$$P_c$$\",\"$$\\dfrac{P_c}{GM^2R^{-4}}$$\",\"$$\\rho_c$$\",\n",
    "                                   \"$$\\dfrac{\\rho_c}{\\dfrac{3M}{4\\pi R^3}}$$\"]\n",
    "MRdf"
   ]
  },
  {
   "cell_type": "code",
   "execution_count": 6,
   "id": "1c1e7167",
   "metadata": {},
   "outputs": [
    {
     "name": "stdout",
     "output_type": "stream",
     "text": [
      "============================= test session starts =============================\n",
      "platform win32 -- Python 3.9.7, pytest-6.2.4, py-1.10.0, pluggy-0.13.1\n",
      "rootdir: C:\\Users\\eoswa\\OneDrive\\Documents\\Fall 2022\\AST 304\\AST_Final_Project\n",
      "plugins: anyio-2.2.0\n",
      "collected 7 items\n",
      "\n",
      "test_const.py .                                                          [ 14%]\n",
      "test_eos.py ..                                                           [ 42%]\n",
      "test_reactions.py F                                                      [ 57%]\n",
      "test_structure.py F                                                      [ 71%]\n",
      "test_zams.py FF                                                          [100%]\n",
      "\n",
      "================================== FAILURES ===================================\n",
      "___________________________________ test_pp ___________________________________\n",
      "\n",
      "    def test_pp():\n",
      "        rho = 1.0e3\n",
      "        T = 1.0e7\n",
      "        f = 1.0\n",
      "        ref_value = 3.8930e-06\n",
      ">       base_rate = pp_rate(T,rho,XH,f)\n",
      "E       NameError: name 'XH' is not defined\n",
      "\n",
      "test_reactions.py:37: NameError\n",
      "____________________________ test_central_thermal _____________________________\n",
      "\n",
      "    def test_central_thermal():\n",
      "        # check value for solar mass, radius and mean molecular weight 0.6\n",
      "        Pcs,rhocs,Tcs = central_thermal(1.0,1.0,0.6)\n",
      ">       assert within_tolerance(Pcs,8.675e+14,tol=1.0e-2)\n",
      "E       assert False\n",
      "E        +  where False = within_tolerance(0.0, 867500000000000.0, tol=0.01)\n",
      "\n",
      "test_structure.py:8: AssertionError\n",
      "__________________________________ test_Teff __________________________________\n",
      "\n",
      "    def test_Teff():\n",
      "        # does interpolation respect table values?\n",
      "        for mass,value in zip([0.1,0.15,0.2,0.3],[2800.0,3150.0,3300.0,3400.0]):\n",
      ">           assert Teff(mass) == value\n",
      "E           assert 0.0 == 2800.0\n",
      "E            +  where 0.0 = Teff(0.1)\n",
      "\n",
      "test_zams.py:9: AssertionError\n",
      "___________________________ test_surface_luminosity ___________________________\n",
      "\n",
      "    def test_surface_luminosity():\n",
      "        Teff = 5772.0\n",
      "        radius = Rsun\n",
      ">       assert within_tolerance(surface_luminosity(Teff,radius),Lsun,tol=1.0e-3)\n",
      "E       assert False\n",
      "E        +  where False = within_tolerance(0.0, 3.828e+26, tol=0.001)\n",
      "E        +    where 0.0 = surface_luminosity(5772.0, 695700000.0)\n",
      "\n",
      "test_zams.py:20: AssertionError\n",
      "============================== warnings summary ===============================\n",
      "..\\..\\..\\..\\..\\..\\..\\ProgramData\\Anaconda3\\lib\\site-packages\\pyreadline\\py3k_compat.py:8\n",
      "  C:\\ProgramData\\Anaconda3\\lib\\site-packages\\pyreadline\\py3k_compat.py:8: DeprecationWarning: Using or importing the ABCs from 'collections' instead of from 'collections.abc' is deprecated since Python 3.3, and in 3.10 it will stop working\n",
      "    return isinstance(x, collections.Callable)\n",
      "\n",
      "-- Docs: https://docs.pytest.org/en/stable/warnings.html\n",
      "=========================== short test summary info ===========================\n",
      "FAILED test_reactions.py::test_pp - NameError: name 'XH' is not defined\n",
      "FAILED test_structure.py::test_central_thermal - assert False\n",
      "FAILED test_zams.py::test_Teff - assert 0.0 == 2800.0\n",
      "FAILED test_zams.py::test_surface_luminosity - assert False\n",
      "=================== 4 failed, 3 passed, 1 warning in 3.32s ====================\n"
     ]
    }
   ],
   "source": [
    "!python -m pytest"
   ]
  },
  {
   "cell_type": "code",
   "execution_count": null,
   "id": "6af063e2",
   "metadata": {},
   "outputs": [],
   "source": []
  }
 ],
 "metadata": {
  "kernelspec": {
   "display_name": "Python 3 (ipykernel)",
   "language": "python",
   "name": "python3"
  },
  "language_info": {
   "codemirror_mode": {
    "name": "ipython",
    "version": 3
   },
   "file_extension": ".py",
   "mimetype": "text/x-python",
   "name": "python",
   "nbconvert_exporter": "python",
   "pygments_lexer": "ipython3",
   "version": "3.9.7"
  }
 },
 "nbformat": 4,
 "nbformat_minor": 5
}
